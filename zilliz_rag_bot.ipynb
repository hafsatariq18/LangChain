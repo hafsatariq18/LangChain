{
  "nbformat": 4,
  "nbformat_minor": 0,
  "metadata": {
    "colab": {
      "provenance": [],
      "authorship_tag": "ABX9TyOsTzUHhO5mPC5DjzJy/tai",
      "include_colab_link": true
    },
    "kernelspec": {
      "name": "python3",
      "display_name": "Python 3"
    },
    "language_info": {
      "name": "python"
    }
  },
  "cells": [
    {
      "cell_type": "markdown",
      "metadata": {
        "id": "view-in-github",
        "colab_type": "text"
      },
      "source": [
        "<a href=\"https://colab.research.google.com/github/hafsatariq18/LangChain/blob/main/zilliz_rag_bot.ipynb\" target=\"_parent\"><img src=\"https://colab.research.google.com/assets/colab-badge.svg\" alt=\"Open In Colab\"/></a>"
      ]
    },
    {
      "cell_type": "code",
      "source": [
        "!pip install --upgrade langchain langchain-core langchain-community langchain-text-splitters langchain-milvus langchain-openai pypdf bs4\n"
      ],
      "metadata": {
        "id": "anxe1OO6VkvA"
      },
      "execution_count": null,
      "outputs": []
    },
    {
      "cell_type": "code",
      "source": [
        "!pip install pymupdf\n",
        "\n"
      ],
      "metadata": {
        "id": "weKmEyR4N0eY"
      },
      "execution_count": null,
      "outputs": []
    },
    {
      "cell_type": "code",
      "source": [
        "import os\n",
        "import getpass\n",
        "os.environ[\"OPENAI_API_KEY\"] = getpass.getpass()\n"
      ],
      "metadata": {
        "id": "jlWk4ViqV8h2",
        "colab": {
          "base_uri": "https://localhost:8080/"
        },
        "outputId": "51e68b42-fd55-4958-dd59-4fb4c6d3c270"
      },
      "execution_count": 4,
      "outputs": [
        {
          "name": "stdout",
          "output_type": "stream",
          "text": [
            "··········\n"
          ]
        }
      ]
    },
    {
      "cell_type": "code",
      "source": [
        "import bs4\n",
        "from langchain_community.document_loaders import WebBaseLoader\n",
        "from langchain_text_splitters import RecursiveCharacterTextSplitter\n",
        "from langchain.document_loaders import PyMuPDFLoader\n",
        "\n",
        "loader = PyMuPDFLoader(\"Story.pdf\")\n",
        "documents = loader.load()\n",
        "text_splitter = RecursiveCharacterTextSplitter(chunk_size=500, chunk_overlap=200)\n",
        "\n",
        "docs = text_splitter.split_documents(documents)\n",
        "\n",
        "docs[1]\n",
        "\n"
      ],
      "metadata": {
        "colab": {
          "base_uri": "https://localhost:8080/"
        },
        "id": "wj9Aaha_YdkZ",
        "outputId": "f6773f7d-389c-487c-e06c-f9b2d763b2e1"
      },
      "execution_count": 6,
      "outputs": [
        {
          "output_type": "execute_result",
          "data": {
            "text/plain": [
              "Document(metadata={'source': 'Story.pdf', 'file_path': 'Story.pdf', 'page': 0, 'total_pages': 3, 'format': 'PDF 1.3', 'title': '', 'author': '', 'subject': '', 'keywords': '', 'creator': 'pdfmake', 'producer': 'pdfmake', 'creationDate': 'D:20240902104121Z', 'modDate': '', 'trapped': ''}, page_content='friends were Ali, Kabir, Zoya, and Sara.\\n \\nAli was the eldest among them and the most responsible. He worked tirelessly as a farmer, tending to his small patch of land with dedication \\nand care. Life as a farmer was difficult, with unpredictable weather and meager harvests, but Ali never complained. He was a natural leader, \\nalways looking out for his friends and family, and his wisdom guided the group through many challenges. His dream was simple—to one day')"
            ]
          },
          "metadata": {},
          "execution_count": 6
        }
      ]
    },
    {
      "cell_type": "code",
      "source": [
        "from langchain_milvus import Milvus, Zilliz\n",
        "from langchain_openai import OpenAIEmbeddings\n",
        "from getpass import getpass\n",
        "\n",
        "os.environ[\"URI\"] = getpass(\"Enter the Milvus/Zilliz URI: \")\n",
        "os.environ[\"TOKEN\"] = getpass(\"Enter the Zilliz Token: \")\n",
        "\n",
        "uri = os.getenv(\"URI\")\n",
        "token = os.getenv(\"TOKEN\")\n",
        "\n",
        "embeddings = OpenAIEmbeddings()\n",
        "\n",
        "vectorstore = Milvus.from_documents(  # or Zilliz.from_documents\n",
        "    documents=docs,\n",
        "    embedding=embeddings,\n",
        "    connection_args={\n",
        "        \"uri\": uri,\n",
        "        \"token\": token,\n",
        "    },\n",
        "    drop_old=True,  # Drop the old Milvus collection if it exists\n",
        ")\n",
        "\n"
      ],
      "metadata": {
        "colab": {
          "base_uri": "https://localhost:8080/"
        },
        "id": "ZTnF7bO8Oe3x",
        "outputId": "4c2aaf14-8768-41f1-c428-b0bfa7829cef"
      },
      "execution_count": 15,
      "outputs": [
        {
          "name": "stdout",
          "output_type": "stream",
          "text": [
            "Enter the Milvus/Zilliz URI: ··········\n",
            "Enter the Zilliz Token: ··········\n"
          ]
        },
        {
          "output_type": "stream",
          "name": "stderr",
          "text": [
            "DEBUG:pymilvus.milvus_client.milvus_client:Created new connection using: 9078ab4705084d63bf47e2a19f38df1d\n"
          ]
        }
      ]
    },
    {
      "cell_type": "code",
      "source": [
        "from langchain_core.runnables import RunnablePassthrough\n",
        "from langchain_core.prompts import PromptTemplate\n",
        "from langchain_core.output_parsers import StrOutputParser\n",
        "from langchain_openai import ChatOpenAI\n",
        "\n",
        "llm = ChatOpenAI(model_name=\"gpt-3.5-turbo\", temperature=0)\n",
        "\n",
        "PROMPT_TEMPLATE = (\n",
        "        \"You are an assistant for question-answering tasks. \"\n",
        "        \"Use the following pieces of retrieved context to answer \"\n",
        "        \"the question. If you don't know the answer, say that you \"\n",
        "        \"don't know. Use two sentences maximum and keep the \"\n",
        "        \"answer concise.\\n\\n{context}\"\n",
        "    )\n",
        "\n",
        "prompt = PromptTemplate(\n",
        "    template=PROMPT_TEMPLATE, input_variables=[\"context\", \"question\"]\n",
        ")\n",
        "retriever = vectorstore.as_retriever()\n",
        "\n",
        "\n",
        "def format_docs(docs):\n",
        "    return \"\\n\\n\".join(doc.page_content for doc in docs)\n"
      ],
      "metadata": {
        "id": "1VInk23pQeXr"
      },
      "execution_count": 19,
      "outputs": []
    },
    {
      "cell_type": "code",
      "source": [
        "rag_chain = (\n",
        "    {\"context\": retriever | format_docs, \"question\": RunnablePassthrough()}\n",
        "    | prompt\n",
        "    | llm\n",
        "    | StrOutputParser()\n",
        ")\n",
        "\n",
        "\n",
        "res = rag_chain.invoke(\"Who is kabir\")\n",
        "res\n"
      ],
      "metadata": {
        "colab": {
          "base_uri": "https://localhost:8080/",
          "height": 53
        },
        "id": "XuuFMzlSQ65J",
        "outputId": "1ae4d4b8-2830-4573-94f5-e2c5a0574633"
      },
      "execution_count": 22,
      "outputs": [
        {
          "output_type": "execute_result",
          "data": {
            "text/plain": [
              "'Kabir ran a small tea stall in the village, where he made people feel welcome and valued. Ali, the eldest among the friends, worked as a farmer and dreamed of owning enough land to provide for his aging parents.'"
            ],
            "application/vnd.google.colaboratory.intrinsic+json": {
              "type": "string"
            }
          },
          "metadata": {},
          "execution_count": 22
        }
      ]
    }
  ]
}