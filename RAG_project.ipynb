{
  "nbformat": 4,
  "nbformat_minor": 0,
  "metadata": {
    "colab": {
      "provenance": [],
      "authorship_tag": "ABX9TyN+Q9ZhywqC251EozHwBesm",
      "include_colab_link": true
    },
    "kernelspec": {
      "name": "python3",
      "display_name": "Python 3"
    },
    "language_info": {
      "name": "python"
    }
  },
  "cells": [
    {
      "cell_type": "markdown",
      "metadata": {
        "id": "view-in-github",
        "colab_type": "text"
      },
      "source": [
        "<a href=\"https://colab.research.google.com/github/hafsatariq18/LangChain/blob/main/RAG_project.ipynb\" target=\"_parent\"><img src=\"https://colab.research.google.com/assets/colab-badge.svg\" alt=\"Open In Colab\"/></a>"
      ]
    },
    {
      "cell_type": "code",
      "execution_count": null,
      "metadata": {
        "id": "NeYsuWe5YVmX"
      },
      "outputs": [],
      "source": [
        "pip install langchain"
      ]
    },
    {
      "cell_type": "code",
      "source": [
        "pip install langchain langchain_community langchain_chroma"
      ],
      "metadata": {
        "id": "zjw0gxqEY4nJ"
      },
      "execution_count": null,
      "outputs": []
    },
    {
      "cell_type": "code",
      "source": [
        "pip install -qU langchain-openai"
      ],
      "metadata": {
        "id": "FZmRODRtZHCX"
      },
      "execution_count": null,
      "outputs": []
    },
    {
      "cell_type": "code",
      "source": [
        "pip install pymupdf"
      ],
      "metadata": {
        "id": "_X64e_7PZXdq"
      },
      "execution_count": null,
      "outputs": []
    },
    {
      "cell_type": "code",
      "source": [
        "import getpass\n",
        "import os\n",
        "\n",
        "os.environ[\"OPENAI_API_KEY\"] = getpass.getpass()\n",
        "\n",
        "from langchain_openai import ChatOpenAI\n",
        "\n",
        "model = ChatOpenAI(model=\"gpt-3.5-turbo\")"
      ],
      "metadata": {
        "colab": {
          "base_uri": "https://localhost:8080/"
        },
        "id": "uB5-43xIZf0R",
        "outputId": "acc26a5c-6009-4c23-cf93-0b4581a66b78"
      },
      "execution_count": null,
      "outputs": [
        {
          "name": "stdout",
          "output_type": "stream",
          "text": [
            "··········\n"
          ]
        }
      ]
    },
    {
      "cell_type": "code",
      "source": [
        "from langchain.document_loaders import PyMuPDFLoader\n",
        "from langchain_text_splitters import RecursiveCharacterTextSplitter\n",
        "from langchain_core.prompts import ChatPromptTemplate, MessagesPlaceholder\n",
        "from langchain_openai import OpenAIEmbeddings\n",
        "from langchain.vectorstores import Chroma\n",
        "from langchain.chains import create_retrieval_chain\n",
        "from langchain.chains.combine_documents import create_stuff_documents_chain\n",
        "from langchain.chains import create_history_aware_retriever\n",
        "from langchain_core.chat_history import BaseChatMessageHistory\n",
        "from langchain_core.runnables.history import RunnableWithMessageHistory\n",
        "from langchain_community.chat_message_histories import ChatMessageHistory"
      ],
      "metadata": {
        "id": "L4kRPKOzqEgC"
      },
      "execution_count": null,
      "outputs": []
    },
    {
      "cell_type": "code",
      "source": [
        "loader = PyMuPDFLoader(\"Story.pdf\")\n",
        "documents = loader.load()\n",
        "print(documents)"
      ],
      "metadata": {
        "colab": {
          "base_uri": "https://localhost:8080/"
        },
        "id": "QkcB3n9bgzM6",
        "outputId": "727e4899-406f-4e68-9a43-709a9f22a656"
      },
      "execution_count": null,
      "outputs": [
        {
          "output_type": "stream",
          "name": "stdout",
          "text": [
            "[Document(metadata={'source': 'Story.pdf', 'file_path': 'Story.pdf', 'page': 0, 'total_pages': 3, 'format': 'PDF 1.3', 'title': '', 'author': '', 'subject': '', 'keywords': '', 'creator': 'pdfmake', 'producer': 'pdfmake', 'creationDate': 'D:20240902104121Z', 'modDate': '', 'trapped': ''}, page_content='In a small, remote village surrounded by rolling hills, lived four lifelong friends who had grown up together, each dreaming of a life beyond the \\nstruggles they faced. Despite their hardships, they shared an unbreakable bond that had carried them through the toughest of times. These \\nfriends were Ali, Kabir, Zoya, and Sara.\\n \\nAli was the eldest among them and the most responsible. He worked tirelessly as a farmer, tending to his small patch of land with dedication \\nand care. Life as a farmer was difficult, with unpredictable weather and meager harvests, but Ali never complained. He was a natural leader, \\nalways looking out for his friends and family, and his wisdom guided the group through many challenges. His dream was simple—to one day \\nown enough land to provide a secure future for his aging parents.\\n \\nKabir, on the other hand, ran a small tea stall in the village. Every day, he served hot cups of chai to the villagers, listening to their stories and \\nsharing a laugh or two. Despite his modest income, Kabir had a gift for making people feel welcome and valued. His tea stall was more than \\njust a place to grab a drink; it was a gathering spot where the villagers came to unwind and connect. Kabir’s easygoing nature and sense of \\nhumor made him the glue that held the group together. He dreamed of expanding his tea stall into a proper café where people could enjoy not \\njust tea but a sense of community.\\n \\nZoya was a schoolteacher with a gentle heart and a deep love for the children she taught. Every morning, she walked to the village school, \\nwhere she spent her days imparting knowledge and values to the next generation. Zoya’s earnings were modest, but she found joy in her work, \\nknowing that she was helping to shape the future. She was the nurturing soul of the group, always encouraging her friends to keep faith and \\nreminding them of the beauty in life’s simple pleasures. Her dream was to build a proper school with better facilities so that the children of the \\nvillage could have more opportunities than she had growing up.\\n \\nSara, the youngest of the group, was a skilled seamstress. She spent her days stitching clothes for the villagers, her nimble fingers creating \\nbeautiful garments from simple fabrics. Sara was known for her sharp mind and practicality; she was the planner and problem-solver of the \\ngroup. Despite the hard work, she always found ways to make their limited resources stretch further, ensuring they could save for the trip they \\nhad long dreamed of. Sara’s dream was to one day open a tailoring shop where she could employ other women from the village, empowering \\nthem to improve their lives as well.\\n \\nAfter years of dreaming and months of saving, the four friends finally had enough money to take a small trip. They decided to visit a nearby hill \\n'), Document(metadata={'source': 'Story.pdf', 'file_path': 'Story.pdf', 'page': 1, 'total_pages': 3, 'format': 'PDF 1.3', 'title': '', 'author': '', 'subject': '', 'keywords': '', 'creator': 'pdfmake', 'producer': 'pdfmake', 'creationDate': 'D:20240902104121Z', 'modDate': '', 'trapped': ''}, page_content='station, a place they had heard about but never seen. With only a few clothes, some homemade snacks, and a strong sense of adventure, they \\nset off on foot, their hearts light with excitement. As they climbed higher into the hills, leaving their village behind, they marveled at the beauty \\naround them—the fresh mountain air, the lush greenery, and the breathtaking views.\\n \\nThe journey was not easy, but their spirits were high. Along the way, they shared stories, laughed, and reveled in the freedom of being away from \\ntheir daily struggles. On the fourth day of their journey, while exploring a dense forest near a sparkling waterfall, they stumbled upon something \\nunexpected. As Ali was resting against a large boulder, he noticed something peculiar—a glint of metal peeking out from under the moss-\\ncovered rock. Intrigued, they all began to dig, their hands working together to uncover what lay beneath.\\n \\nTo their astonishment, they discovered an old, rusted chest, half-buried in the earth. With great effort, they managed to open it, revealing a \\ntreasure trove of gold coins, jewels, and ancient artifacts that shimmered in the sunlight. The friends were overwhelmed with shock and joy, \\nunable to believe their eyes. This treasure was beyond anything they had ever imagined, a fortune that could change their lives forever.\\n \\nHowever, their excitement was short-lived as they realized the chest was guarded by a series of intricate puzzles and traps designed to protect \\nthe treasure from unworthy seekers. The chest had a complex locking mechanism that required solving riddles and aligning symbols correctly \\nto open it fully. The friends found themselves stumped, unsure how to proceed. Just when they were about to give up, a mysterious figure \\nemerged from the shadows—a man named Hamza.\\n \\nHamza was an elderly wanderer with kind eyes and a weathered face that spoke of a life filled with adventures and knowledge. He had spent his \\nyounger years exploring ancient ruins and solving hidden mysteries. Seeing the friends’ predicament, Hamza approached them with a calm \\ndemeanor. He introduced himself and explained that he had been searching for this treasure for years, believing it held not just material wealth \\nbut also historical significance.\\n \\nHamza offered to help them navigate the puzzles guarding the chest. With his extensive knowledge of ancient symbols and mechanisms, he \\nbegan to guide the friends through each challenge. Ali used his leadership skills to keep everyone focused, Kabir’s creativity helped in \\nvisualizing the puzzle solutions, Zoya’s patience was essential in carefully interpreting the clues, and Sara’s practical mindset ensured that their \\nefforts were efficient and organized. Together, they worked as a cohesive team, each contributing their strengths to solve the intricate locks.\\n'), Document(metadata={'source': 'Story.pdf', 'file_path': 'Story.pdf', 'page': 2, 'total_pages': 3, 'format': 'PDF 1.3', 'title': '', 'author': '', 'subject': '', 'keywords': '', 'creator': 'pdfmake', 'producer': 'pdfmake', 'creationDate': 'D:20240902104121Z', 'modDate': '', 'trapped': ''}, page_content=' \\nAfter hours of collaboration, they finally unlocked the chest completely. The true treasure revealed itself not just in its glittering contents but in \\nthe bonds they had strengthened and the lessons they had learned about teamwork, trust, and perseverance. Hamza, impressed by their unity \\nand integrity, shared stories of his own adventures and imparted wisdom about using the treasure responsibly.\\n \\nGrateful for Hamza’s assistance and inspired by his stories, the friends decided to share the treasure equally with him. With Hamza’s help, they \\ntransported the treasure back to their village, where it was divided fairly among them. The newfound wealth transformed their lives in \\nremarkable ways. Ali bought additional land, transforming his small farm into a thriving enterprise that provided for his family and the \\ncommunity. Kabir expanded his tea stall into a bustling café where villagers and travelers alike could gather and share stories over a warm cup \\nof chai. Zoya built the school she had always dreamed of, providing the children of the village with the education and opportunities they \\ndeserved. Sara opened her tailoring shop, employing other women and teaching them the skills they needed to improve their lives.\\n \\nAs for Hamza, he used his share of the treasure to live comfortably in the hills, content in knowing that he had played a part in changing the \\nlives of four deserving friends. The story of their discovery and the journey that followed became a cherished tale in the village, a reminder that \\neven in the face of hardship, there is always hope for a better future. The friends, now prosperous and fulfilled, never forgot the lessons they \\nhad learned along the way—that true wealth comes not just from material riches, but from the bonds of friendship, the kindness of strangers, \\nand the courage to pursue one’s dreams.\\n')]\n"
          ]
        }
      ]
    },
    {
      "cell_type": "code",
      "source": [
        "text_splitter = RecursiveCharacterTextSplitter(chunk_size = 500, chunk_overlap = 200)\n",
        "chunks = text_splitter.split_documents(documents)\n",
        "print(len(chunks))"
      ],
      "metadata": {
        "colab": {
          "base_uri": "https://localhost:8080/"
        },
        "id": "WgCGRQSNZ1f4",
        "outputId": "b52d37d8-72cf-4c8c-f8b1-cdf8290d0a64"
      },
      "execution_count": null,
      "outputs": [
        {
          "output_type": "stream",
          "name": "stdout",
          "text": [
            "24\n"
          ]
        }
      ]
    },
    {
      "cell_type": "code",
      "source": [
        "vectorstore = Chroma.from_documents(documents=chunks, embedding=OpenAIEmbeddings())\n",
        "retriever = vectorstore.as_retriever()"
      ],
      "metadata": {
        "id": "yBWc3wuvj_dc"
      },
      "execution_count": null,
      "outputs": []
    },
    {
      "cell_type": "code",
      "source": [
        "\n",
        "system_prompt = (\n",
        "    \"You are an assistant for question-answering tasks. \"\n",
        "    \"Use the following pieces of retrieved context to answer \"\n",
        "    \"the question. If you don't know the answer, say that you \"\n",
        "    \"don't know. Use two sentences maximum and keep the \"\n",
        "    \"answer concise.\"\n",
        "    \"\\n\\n\"\n",
        "    \"{context}\"\n",
        ")\n",
        "\n",
        "prompt = ChatPromptTemplate.from_messages(\n",
        "    [\n",
        "        (\"system\", system_prompt),\n",
        "        (\"human\", \"{input}\"),\n",
        "    ]\n",
        ")\n"
      ],
      "metadata": {
        "id": "F_U2qC2Yk_RY"
      },
      "execution_count": null,
      "outputs": []
    },
    {
      "cell_type": "code",
      "source": [
        "question_answer_chain = create_stuff_documents_chain(model, prompt)\n",
        "rag_chain = create_retrieval_chain(retriever, question_answer_chain)"
      ],
      "metadata": {
        "id": "wbqraSOblJvc"
      },
      "execution_count": null,
      "outputs": []
    },
    {
      "cell_type": "code",
      "source": [
        "response = rag_chain.invoke({\"input\": \"Who was Ali?\"})\n",
        "response[\"answer\"]"
      ],
      "metadata": {
        "colab": {
          "base_uri": "https://localhost:8080/",
          "height": 53
        },
        "id": "5fOkqHJvlhpV",
        "outputId": "5093502c-05fc-412e-bcf4-4f068b884be8"
      },
      "execution_count": null,
      "outputs": [
        {
          "output_type": "execute_result",
          "data": {
            "text/plain": [
              "'Ali was the eldest among his friends, a responsible farmer who worked tirelessly and showed natural leadership qualities.'"
            ],
            "application/vnd.google.colaboratory.intrinsic+json": {
              "type": "string"
            }
          },
          "metadata": {},
          "execution_count": 12
        }
      ]
    },
    {
      "cell_type": "code",
      "source": [
        "response = rag_chain.invoke({\"input\": \"What is the story about\"})\n",
        "response[\"answer\"]"
      ],
      "metadata": {
        "colab": {
          "base_uri": "https://localhost:8080/",
          "height": 71
        },
        "id": "2H4SslwmjDHq",
        "outputId": "ace623b0-640c-4290-9074-3a486befc70c"
      },
      "execution_count": null,
      "outputs": [
        {
          "output_type": "execute_result",
          "data": {
            "text/plain": [
              "'The story is about four friends who embark on a journey, facing hardships and unexpected discoveries, ultimately learning valuable lessons about friendship, kindness, and pursuing dreams from a mysterious figure they encounter along the way.'"
            ],
            "application/vnd.google.colaboratory.intrinsic+json": {
              "type": "string"
            }
          },
          "metadata": {},
          "execution_count": 14
        }
      ]
    },
    {
      "cell_type": "code",
      "source": [
        "response = rag_chain.invoke({\"input\": \"Give brief information about Kabir\"})\n",
        "response[\"answer\"]"
      ],
      "metadata": {
        "colab": {
          "base_uri": "https://localhost:8080/",
          "height": 53
        },
        "id": "4r0dtfYvSzV9",
        "outputId": "d872f4ab-e65b-4faa-a025-161cee23bb76"
      },
      "execution_count": null,
      "outputs": [
        {
          "output_type": "execute_result",
          "data": {
            "text/plain": [
              "'Kabir ran a small tea stall in the village, where he made people feel welcome and valued by listening to their stories and sharing laughs. He dreamed of expanding his tea stall into a proper café to create a sense of community.'"
            ],
            "application/vnd.google.colaboratory.intrinsic+json": {
              "type": "string"
            }
          },
          "metadata": {},
          "execution_count": 15
        }
      ]
    }
  ]
}